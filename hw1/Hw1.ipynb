{
 "cells": [
  {
   "cell_type": "code",
   "execution_count": 93,
   "metadata": {},
   "outputs": [],
   "source": [
    "import numpy as np"
   ]
  },
  {
   "cell_type": "markdown",
   "metadata": {},
   "source": [
    "# Task 1"
   ]
  },
  {
   "cell_type": "code",
   "execution_count": 94,
   "metadata": {},
   "outputs": [
    {
     "data": {
      "text/plain": [
       "array([ 1,  2,  3,  4,  5,  6,  7,  8,  9, 10])"
      ]
     },
     "execution_count": 94,
     "metadata": {},
     "output_type": "execute_result"
    }
   ],
   "source": [
    "np.array(range(1, 11))\n"
   ]
  },
  {
   "cell_type": "markdown",
   "metadata": {},
   "source": [
    "# Task 2"
   ]
  },
  {
   "cell_type": "code",
   "execution_count": 95,
   "metadata": {},
   "outputs": [
    {
     "data": {
      "text/plain": [
       "array([[0., 0., 0.],\n",
       "       [0., 0., 0.],\n",
       "       [0., 0., 0.]])"
      ]
     },
     "execution_count": 95,
     "metadata": {},
     "output_type": "execute_result"
    }
   ],
   "source": [
    "np.zeros((3,3))"
   ]
  },
  {
   "cell_type": "markdown",
   "metadata": {},
   "source": [
    "# Task 3"
   ]
  },
  {
   "cell_type": "code",
   "execution_count": 96,
   "metadata": {},
   "outputs": [
    {
     "data": {
      "text/plain": [
       "array([[ 9,  1,  5,  3,  3],\n",
       "       [ 5,  2,  4,  5, 10],\n",
       "       [ 9,  9,  9,  9,  9],\n",
       "       [ 3,  2,  8, 10,  4],\n",
       "       [10,  6,  4,  6,  4]])"
      ]
     },
     "execution_count": 96,
     "metadata": {},
     "output_type": "execute_result"
    }
   ],
   "source": [
    "np.random.randint(1, 11, size=(5, 5))"
   ]
  },
  {
   "cell_type": "markdown",
   "metadata": {},
   "source": [
    "# Task 4"
   ]
  },
  {
   "cell_type": "code",
   "execution_count": 97,
   "metadata": {},
   "outputs": [
    {
     "data": {
      "text/plain": [
       "array([[0.96011234, 0.49504345, 0.76584914, 0.61310034],\n",
       "       [0.40222339, 0.71784171, 0.31903439, 0.45192319],\n",
       "       [0.0495314 , 0.03264625, 0.8916847 , 0.23632208],\n",
       "       [0.17734195, 0.77393251, 0.5153459 , 0.97979243]])"
      ]
     },
     "execution_count": 97,
     "metadata": {},
     "output_type": "execute_result"
    }
   ],
   "source": [
    "np.random.random((4, 4))"
   ]
  },
  {
   "cell_type": "markdown",
   "metadata": {},
   "source": [
    "# Task 5"
   ]
  },
  {
   "cell_type": "code",
   "execution_count": 98,
   "metadata": {},
   "outputs": [
    {
     "name": "stdout",
     "output_type": "stream",
     "text": [
      "[ 2  9  6  3 10]\n",
      "[9 1 5 3 5]\n",
      "[11 10 11  6 15]\n",
      "[-7  8  1  0  5]\n",
      "[18  9 30  9 50]\n"
     ]
    }
   ],
   "source": [
    "v1 = np.random.randint(1, 11, size=(5,))\n",
    "v2 = np.random.randint(1, 11, size=(5,))\n",
    "\n",
    "print(v1)\n",
    "print(v2)\n",
    "print(v1+v2)\n",
    "print(v1-v2)\n",
    "print(v1*v2)"
   ]
  },
  {
   "cell_type": "markdown",
   "metadata": {},
   "source": [
    "# Task 6"
   ]
  },
  {
   "cell_type": "code",
   "execution_count": 99,
   "metadata": {},
   "outputs": [
    {
     "name": "stdout",
     "output_type": "stream",
     "text": [
      "[8 6 7 3 9]\n",
      "[4 3 2 9 8]\n",
      "163\n"
     ]
    }
   ],
   "source": [
    "v1 = np.random.randint(1, 11, size=(5,))\n",
    "v2 = np.random.randint(1, 11, size=(5,))\n",
    "\n",
    "print(v1)\n",
    "print(v2)\n",
    "print(np.dot(v1, v2))"
   ]
  },
  {
   "cell_type": "markdown",
   "metadata": {},
   "source": [
    "# Task 7"
   ]
  },
  {
   "cell_type": "code",
   "execution_count": 100,
   "metadata": {},
   "outputs": [
    {
     "name": "stdout",
     "output_type": "stream",
     "text": [
      "[[6 8]\n",
      " [7 8]]\n",
      "[[ 4  2 10]\n",
      " [ 1  4  2]]\n",
      "[[32 44 76]\n",
      " [36 46 86]]\n"
     ]
    }
   ],
   "source": [
    "v1 = np.random.randint(1, 11, size=(2,2))\n",
    "v2 = np.random.randint(1, 11, size=(2,3))\n",
    "\n",
    "print(v1)\n",
    "print(v2)\n",
    "print(np.dot(v1, v2))\n"
   ]
  },
  {
   "cell_type": "markdown",
   "metadata": {},
   "source": [
    "# Task 8"
   ]
  },
  {
   "cell_type": "code",
   "execution_count": 101,
   "metadata": {},
   "outputs": [
    {
     "name": "stdout",
     "output_type": "stream",
     "text": [
      "[[ 5  6  1]\n",
      " [ 1  5  7]\n",
      " [10  7  2]]\n"
     ]
    },
    {
     "data": {
      "text/plain": [
       "array([[-2.29411765e-01, -2.94117647e-02,  2.17647059e-01],\n",
       "       [ 4.00000000e-01, -1.67065024e-18, -2.00000000e-01],\n",
       "       [-2.52941176e-01,  1.47058824e-01,  1.11764706e-01]])"
      ]
     },
     "execution_count": 101,
     "metadata": {},
     "output_type": "execute_result"
    }
   ],
   "source": [
    "v1 = np.random.randint(1, 11, size=(3,3))\n",
    "print(v1)\n",
    "np.linalg.inv(v1)"
   ]
  },
  {
   "cell_type": "markdown",
   "metadata": {},
   "source": [
    "# Task 9"
   ]
  },
  {
   "cell_type": "code",
   "execution_count": 102,
   "metadata": {},
   "outputs": [
    {
     "name": "stdout",
     "output_type": "stream",
     "text": [
      "[[0.66545069 0.1189218  0.46651723 0.19281336]\n",
      " [0.20075904 0.41294686 0.07524563 0.17900786]\n",
      " [0.34034171 0.13886439 0.09970679 0.05438153]\n",
      " [0.22714155 0.79733494 0.65056602 0.28791562]]\n"
     ]
    },
    {
     "data": {
      "text/plain": [
       "array([[0.66545069, 0.20075904, 0.34034171, 0.22714155],\n",
       "       [0.1189218 , 0.41294686, 0.13886439, 0.79733494],\n",
       "       [0.46651723, 0.07524563, 0.09970679, 0.65056602],\n",
       "       [0.19281336, 0.17900786, 0.05438153, 0.28791562]])"
      ]
     },
     "execution_count": 102,
     "metadata": {},
     "output_type": "execute_result"
    }
   ],
   "source": [
    "v1 = np.random.random(size=(4,4))\n",
    "print(v1)\n",
    "v1.T"
   ]
  },
  {
   "cell_type": "markdown",
   "metadata": {},
   "source": [
    "# Task 10"
   ]
  },
  {
   "cell_type": "code",
   "execution_count": 103,
   "metadata": {},
   "outputs": [
    {
     "name": "stdout",
     "output_type": "stream",
     "text": [
      "[[ 9  9  4  8]\n",
      " [10  2  7  8]\n",
      " [ 1  5  7  1]]\n",
      "[9 3 6 1]\n",
      "[140 146  67]\n"
     ]
    }
   ],
   "source": [
    "v1 = np.random.randint(1, 11, size=(3,4))\n",
    "v2 = np.random.randint(1, 11, size=(4,))\n",
    "\n",
    "print(v1)\n",
    "print(v2)\n",
    "print(np.dot(v1,v2))"
   ]
  },
  {
   "cell_type": "markdown",
   "metadata": {},
   "source": [
    "# Task 11"
   ]
  },
  {
   "cell_type": "code",
   "execution_count": 104,
   "metadata": {},
   "outputs": [
    {
     "name": "stdout",
     "output_type": "stream",
     "text": [
      "[[0.9739978  0.3038662  0.91506447]\n",
      " [0.04789496 0.6180743  0.35306321]]\n",
      "[0.89508917 0.08201613 0.34690511]\n",
      "[1.21417735 0.21604176]\n"
     ]
    }
   ],
   "source": [
    "v1 = np.random.random(size=(2,3))\n",
    "v2 = np.random.random(size=(3,))\n",
    "\n",
    "print(v1)\n",
    "print(v2)\n",
    "print(np.dot(v1,v2))"
   ]
  },
  {
   "cell_type": "markdown",
   "metadata": {},
   "source": [
    "# Task 12"
   ]
  },
  {
   "cell_type": "code",
   "execution_count": 105,
   "metadata": {},
   "outputs": [
    {
     "name": "stdout",
     "output_type": "stream",
     "text": [
      "[[9 8]\n",
      " [9 2]]\n",
      "[[2 3]\n",
      " [3 3]]\n",
      "[[18 24]\n",
      " [27  6]]\n"
     ]
    }
   ],
   "source": [
    "v1 = np.random.randint(1, 11, size=(2,2))\n",
    "v2 = np.random.randint(1, 11, size=(2,2))\n",
    "\n",
    "print(v1)\n",
    "print(v2)\n",
    "print(v1 * v2)"
   ]
  },
  {
   "cell_type": "markdown",
   "metadata": {},
   "source": [
    "# Task 13"
   ]
  },
  {
   "cell_type": "code",
   "execution_count": 106,
   "metadata": {},
   "outputs": [
    {
     "name": "stdout",
     "output_type": "stream",
     "text": [
      "[[4 4]\n",
      " [4 6]]\n",
      "[[2 8]\n",
      " [6 9]]\n",
      "[[32 68]\n",
      " [44 86]]\n"
     ]
    }
   ],
   "source": [
    "v1 = np.random.randint(1, 11, size=(2,2))\n",
    "v2 = np.random.randint(1, 11, size=(2,2))\n",
    "\n",
    "print(v1)\n",
    "print(v2)\n",
    "print(np.dot(v1, v2))"
   ]
  },
  {
   "cell_type": "markdown",
   "metadata": {},
   "source": [
    "# Task 14"
   ]
  },
  {
   "cell_type": "code",
   "execution_count": 107,
   "metadata": {},
   "outputs": [
    {
     "data": {
      "text/plain": [
       "1093"
      ]
     },
     "execution_count": 107,
     "metadata": {},
     "output_type": "execute_result"
    }
   ],
   "source": [
    "np.random.randint(1, 101, size=(5,5)).sum()"
   ]
  },
  {
   "cell_type": "markdown",
   "metadata": {},
   "source": [
    "# Task 15"
   ]
  },
  {
   "cell_type": "code",
   "execution_count": 108,
   "metadata": {},
   "outputs": [
    {
     "name": "stdout",
     "output_type": "stream",
     "text": [
      "[[ 2 10  7  6]\n",
      " [ 5 10  6  1]\n",
      " [ 6  3  9  7]\n",
      " [10  9  7  3]]\n",
      "[[ 3  8  3  1]\n",
      " [10 10  2  3]\n",
      " [ 1 10  7  4]\n",
      " [ 8  7  6  4]]\n",
      "[[-1  2  4  5]\n",
      " [-5  0  4 -2]\n",
      " [ 5 -7  2  3]\n",
      " [ 2  2  1 -1]]\n"
     ]
    }
   ],
   "source": [
    "v1 = np.random.randint(1, 11, size=(4,4))\n",
    "v2 = np.random.randint(1, 11, size=(4,4))\n",
    "\n",
    "print(v1)\n",
    "print(v2)\n",
    "print(v1-v2)"
   ]
  },
  {
   "cell_type": "markdown",
   "metadata": {},
   "source": [
    "# Task 16"
   ]
  },
  {
   "cell_type": "code",
   "execution_count": 109,
   "metadata": {},
   "outputs": [
    {
     "name": "stdout",
     "output_type": "stream",
     "text": [
      "[[0.96704187 0.80249394 0.84918497]\n",
      " [0.40659153 0.4077127  0.51711212]\n",
      " [0.12473655 0.19198451 0.47499859]]\n",
      "[2.61872079 1.33141635 0.79171965]\n",
      "[2.61872079 1.33141635 0.79171965]\n"
     ]
    }
   ],
   "source": [
    "v = np.random.random((3,3))\n",
    "print(v)\n",
    "print(np.array([\n",
    "    v[0].sum(),\n",
    "    v[1].sum(),\n",
    "    v[2].sum(),\n",
    "    ]))\n",
    "\n",
    "print(v.sum(axis=1))"
   ]
  },
  {
   "cell_type": "markdown",
   "metadata": {},
   "source": [
    "# Task 17"
   ]
  },
  {
   "cell_type": "code",
   "execution_count": 110,
   "metadata": {},
   "outputs": [
    {
     "name": "stdout",
     "output_type": "stream",
     "text": [
      "[[10  2  1  8]\n",
      " [ 1  5  1  9]\n",
      " [ 6  6  6  2]]\n"
     ]
    },
    {
     "data": {
      "text/plain": [
       "array([[100,   4,   1,  64],\n",
       "       [  1,  25,   1,  81],\n",
       "       [ 36,  36,  36,   4]], dtype=int32)"
      ]
     },
     "execution_count": 110,
     "metadata": {},
     "output_type": "execute_result"
    }
   ],
   "source": [
    "v = np.random.randint(1,11,size=(3,4))\n",
    "print(v)\n",
    "np.power(v,2)\n",
    "\n"
   ]
  },
  {
   "cell_type": "markdown",
   "metadata": {},
   "source": [
    "# Task 18"
   ]
  },
  {
   "cell_type": "code",
   "execution_count": 111,
   "metadata": {},
   "outputs": [
    {
     "name": "stdout",
     "output_type": "stream",
     "text": [
      "[48 21 27 46]\n"
     ]
    },
    {
     "data": {
      "text/plain": [
       "array([6.92820323, 4.58257569, 5.19615242, 6.78232998])"
      ]
     },
     "execution_count": 111,
     "metadata": {},
     "output_type": "execute_result"
    }
   ],
   "source": [
    "v = np.random.randint(1,51,size=(4,))\n",
    "print(v)\n",
    "np.sqrt(v)"
   ]
  }
 ],
 "metadata": {
  "kernelspec": {
   "display_name": "base",
   "language": "python",
   "name": "python3"
  },
  "language_info": {
   "codemirror_mode": {
    "name": "ipython",
    "version": 3
   },
   "file_extension": ".py",
   "mimetype": "text/x-python",
   "name": "python",
   "nbconvert_exporter": "python",
   "pygments_lexer": "ipython3",
   "version": "3.11.7"
  }
 },
 "nbformat": 4,
 "nbformat_minor": 2
}
